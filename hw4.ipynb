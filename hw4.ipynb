{
 "cells": [
  {
   "cell_type": "markdown",
   "metadata": {},
   "source": [
    "### Part 1 - Sentiment Analysis on Yelp Dataset"
   ]
  },
  {
   "cell_type": "code",
   "execution_count": 12,
   "metadata": {},
   "outputs": [
    {
     "name": "stderr",
     "output_type": "stream",
     "text": [
      "Epoch 1/5: 100%|██████████| 7875/7875 [05:34<00:00, 23.58it/s] \n"
     ]
    },
    {
     "name": "stdout",
     "output_type": "stream",
     "text": [
      "Epoch 1/5\n",
      "Train Loss: 0.5891\n",
      "Val Loss: 0.4534\n",
      "Val Accuracy: 84.34%\n"
     ]
    },
    {
     "name": "stderr",
     "output_type": "stream",
     "text": [
      "Epoch 2/5: 100%|██████████| 7875/7875 [01:02<00:00, 126.30it/s]\n"
     ]
    },
    {
     "name": "stdout",
     "output_type": "stream",
     "text": [
      "Epoch 2/5\n",
      "Train Loss: 0.3760\n",
      "Val Loss: 0.3132\n",
      "Val Accuracy: 89.64%\n"
     ]
    },
    {
     "name": "stderr",
     "output_type": "stream",
     "text": [
      "Epoch 3/5: 100%|██████████| 7875/7875 [01:01<00:00, 127.63it/s]\n"
     ]
    },
    {
     "name": "stdout",
     "output_type": "stream",
     "text": [
      "Epoch 3/5\n",
      "Train Loss: 0.2828\n",
      "Val Loss: 0.2592\n",
      "Val Accuracy: 90.78%\n"
     ]
    },
    {
     "name": "stderr",
     "output_type": "stream",
     "text": [
      "Epoch 4/5: 100%|██████████| 7875/7875 [01:01<00:00, 127.30it/s]\n"
     ]
    },
    {
     "name": "stdout",
     "output_type": "stream",
     "text": [
      "Epoch 4/5\n",
      "Train Loss: 0.2412\n",
      "Val Loss: 0.2327\n",
      "Val Accuracy: 91.68%\n"
     ]
    },
    {
     "name": "stderr",
     "output_type": "stream",
     "text": [
      "Epoch 5/5: 100%|██████████| 7875/7875 [01:02<00:00, 126.87it/s]\n"
     ]
    },
    {
     "name": "stdout",
     "output_type": "stream",
     "text": [
      "Epoch 5/5\n",
      "Train Loss: 0.2177\n",
      "Val Loss: 0.2186\n",
      "Val Accuracy: 92.11%\n",
      "Test Accuracy: 92.34%\n"
     ]
    }
   ],
   "source": [
    "import torch\n",
    "import torch.nn as nn\n",
    "import torch.optim as optim\n",
    "from datasets import load_dataset\n",
    "from torch.utils.data import DataLoader, TensorDataset\n",
    "from sklearn.model_selection import train_test_split\n",
    "from tqdm import tqdm\n",
    "\n",
    "# load yelp dataset here\n",
    "dataset = load_dataset(\"yelp_polarity\")\n",
    "\n",
    "# preprocess the data\n",
    "def preprocess(examples):\n",
    "    return {\"text\": examples[\"text\"], \"label\": examples[\"label\"]}\n",
    "\n",
    "dataset = dataset.map(preprocess, remove_columns=dataset[\"train\"].column_names)\n",
    "\n",
    "# split dataset into train and test using their column names\n",
    "train_val_data = dataset[\"train\"]\n",
    "test_data = dataset[\"test\"]\n",
    "\n",
    "train_val_split = train_val_data.train_test_split(test_size=0.1, seed=42)\n",
    "train_data = train_val_split['train']\n",
    "val_data = train_val_split['test']\n",
    "\n",
    "# make vocabulary\n",
    "vocab = set()\n",
    "for text in train_data[\"text\"]:\n",
    "    vocab.update(text.split())\n",
    "vocab = list(vocab)\n",
    "word_to_idx = {word: idx for idx, word in enumerate(vocab)}\n",
    "\n",
    "# convert text to indices\n",
    "def text_to_indices(text):\n",
    "    return [word_to_idx.get(word, len(vocab)) for word in text.split()]\n",
    "\n",
    "# my model\n",
    "class SentimentModel(nn.Module):\n",
    "    def __init__(self, vocab_size, embed_dim):\n",
    "        super().__init__()\n",
    "        self.embedding = nn.Embedding(vocab_size + 1, embed_dim, padding_idx=vocab_size)\n",
    "        self.fc = nn.Linear(embed_dim, 1)\n",
    "    \n",
    "    def forward(self, x):\n",
    "        embedded = self.embedding(x)\n",
    "        pooled = embedded.mean(dim=1)\n",
    "        return self.fc(pooled).squeeze()\n",
    "\n",
    "# my hyperparameters\n",
    "embed_dim = 10\n",
    "batch_size = 64\n",
    "num_epochs = 5\n",
    "learning_rate = 0.001\n",
    "\n",
    "def create_dataset(data):\n",
    "    texts = [torch.tensor(text_to_indices(text)) for text in data[\"text\"]]\n",
    "    labels = torch.tensor(data[\"label\"])\n",
    "    return TensorDataset(nn.utils.rnn.pad_sequence(texts, batch_first=True), labels)\n",
    "\n",
    "train_dataset = create_dataset(train_data)\n",
    "val_dataset = create_dataset(val_data)\n",
    "test_dataset = create_dataset(test_data)\n",
    "\n",
    "train_loader = DataLoader(train_dataset, batch_size=batch_size, shuffle=True)\n",
    "val_loader = DataLoader(val_dataset, batch_size=batch_size)\n",
    "test_loader = DataLoader(test_dataset, batch_size=batch_size)\n",
    "\n",
    "model = SentimentModel(len(vocab), embed_dim)\n",
    "criterion = nn.BCEWithLogitsLoss()\n",
    "optimizer = optim.Adam(model.parameters(), lr=learning_rate)\n",
    "\n",
    "device = torch.device(\"cuda\" if torch.cuda.is_available() else \"cpu\")\n",
    "model.to(device)\n",
    "\n",
    "for epoch in range(num_epochs):\n",
    "    # train\n",
    "    model.train()\n",
    "    train_loss = 0\n",
    "    for batch in tqdm(train_loader, desc=f\"Epoch {epoch+1}/{num_epochs}\"):\n",
    "        inputs, labels = batch\n",
    "        inputs, labels = inputs.to(device), labels.float().to(device)\n",
    "        \n",
    "        optimizer.zero_grad()\n",
    "        outputs = model(inputs)\n",
    "        loss = criterion(outputs, labels)\n",
    "        loss.backward()\n",
    "        optimizer.step()\n",
    "        \n",
    "        train_loss += loss.item()\n",
    "    \n",
    "    # validate\n",
    "    model.eval()\n",
    "    val_loss = 0\n",
    "    correct = 0\n",
    "    total = 0\n",
    "    with torch.no_grad():\n",
    "        for batch in val_loader:\n",
    "            inputs, labels = batch\n",
    "            inputs, labels = inputs.to(device), labels.to(device)\n",
    "            outputs = model(inputs)\n",
    "            loss = criterion(outputs, labels.float())\n",
    "            val_loss += loss.item()\n",
    "            predicted = (outputs > 0).int()\n",
    "            total += labels.size(0)\n",
    "            correct += (predicted == labels).sum().item()\n",
    "    \n",
    "    print(f\"Epoch {epoch+1}/{num_epochs}\")\n",
    "    print(f\"Train Loss: {train_loss/len(train_loader):.4f}\")\n",
    "    print(f\"Val Loss: {val_loss/len(val_loader):.4f}\")\n",
    "    print(f\"Val Accuracy: {100*correct/total:.2f}%\")\n",
    "\n",
    "# evaluate\n",
    "model.eval()\n",
    "test_correct = 0\n",
    "test_total = 0\n",
    "with torch.no_grad():\n",
    "    for batch in test_loader:\n",
    "        inputs, labels = batch\n",
    "        inputs, labels = inputs.to(device), labels.to(device)\n",
    "        outputs = model(inputs)\n",
    "        predicted = (outputs > 0).int()\n",
    "        test_total += labels.size(0)\n",
    "        test_correct += (predicted == labels).sum().item()\n",
    "\n",
    "print(f\"Test Accuracy: {100*test_correct/test_total:.2f}%\")"
   ]
  },
  {
   "cell_type": "markdown",
   "metadata": {},
   "source": [
    "### Part 2 - Results Analysis"
   ]
  },
  {
   "cell_type": "markdown",
   "metadata": {},
   "source": [
    "#### Sparsity Histogram"
   ]
  },
  {
   "cell_type": "code",
   "execution_count": 19,
   "metadata": {},
   "outputs": [
    {
     "data": {
      "image/png": "[encoded data removed]",
      "text/plain": [
       "<Figure size 1000x600 with 1 Axes>"
      ]
     },
     "metadata": {},
     "output_type": "display_data"
    }
   ],
   "source": [
    "import numpy as np\n",
    "import matplotlib.pyplot as plt\n",
    "\n",
    "word_embeddings = model.embedding.weight.detach().cpu().numpy()\n",
    "\n",
    "magnitudes = np.abs(word_embeddings).flatten()\n",
    "\n",
    "# histogram\n",
    "plt.figure(figsize=(10, 6))\n",
    "plt.hist(magnitudes, bins=50, edgecolor='black')\n",
    "plt.title('Distribution of Word Embedding Magnitudes')\n",
    "plt.xlabel('Magnitude')\n",
    "plt.ylabel('Frequency')\n",
    "plt.yscale('log') \n",
    "plt.show()"
   ]
  },
  {
   "cell_type": "markdown",
   "metadata": {},
   "source": [
    "#### Words with Large Components"
   ]
  },
  {
   "cell_type": "code",
   "execution_count": 16,
   "metadata": {},
   "outputs": [
    {
     "name": "stdout",
     "output_type": "stream",
     "text": [
      "\n",
      "Top words for component 0:\n",
      "Great: -22.0935\n",
      "worst: 20.1121\n",
      "mediocre: 17.6123\n",
      "Worst: 17.2407\n",
      "delicious.: -16.9705\n",
      "rude: 16.8372\n",
      "amazing.: -15.3631\n",
      "Love: -15.3539\n",
      "terrible.: 14.8212\n",
      "Terrible: 14.7144\n",
      "\n",
      "Top words for component 1:\n",
      "Great: 23.4056\n",
      "worst: -19.2817\n",
      "bland: -17.1735\n",
      "Love: 16.6226\n",
      "mediocre: -16.4949\n",
      "Worst: -15.7591\n",
      "delicious.: 15.4944\n",
      "rude: -15.3140\n",
      "waste: -15.1315\n",
      ":): 15.0627\n",
      "\n",
      "Top words for component 2:\n",
      "Great: 21.6424\n",
      "worst: -21.5720\n",
      "bland: -17.3457\n",
      "delicious.: 17.2520\n",
      "mediocre: -16.8846\n",
      "Worst: -16.3972\n",
      "Love: 16.3117\n",
      "Horrible: -15.4485\n",
      "horrible: -15.3773\n",
      "Excellent: 15.2962\n",
      "\n",
      "Top words for component 3:\n",
      "worst: 20.7080\n",
      "Great: -18.7885\n",
      "Love: -17.2007\n",
      "rude: 17.0670\n",
      "Worst: 16.4599\n",
      "mediocre: 16.1681\n",
      "terrible: 15.2863\n",
      "amazing.: -15.2655\n",
      "terrible.: 14.9853\n",
      "Horrible: 14.9671\n",
      "\n",
      "Top words for component 4:\n",
      "worst: 22.4271\n",
      "Great: -21.6422\n",
      "Love: -17.6269\n",
      "Worst: 17.0314\n",
      "mediocre: 16.9868\n",
      "delicious.: -16.9834\n",
      "amazing.: -16.8211\n",
      "rude: 16.1808\n",
      "terrible.: 16.0335\n",
      ":): -15.9567\n"
     ]
    }
   ],
   "source": [
    "def get_top_words_for_component(word_embeddings, vocab, component, top_n=10):\n",
    "    component_values = word_embeddings[:, component]\n",
    "    top_indices = np.argsort(np.abs(component_values))[-top_n:][::-1]\n",
    "    return [(vocab[i], component_values[i]) for i in top_indices]\n",
    "\n",
    "vocab = list(word_to_idx.keys())\n",
    "\n",
    "# first 5 components\n",
    "for component in range(5): \n",
    "    top_words = get_top_words_for_component(word_embeddings, vocab, component)\n",
    "    print(f\"\\nTop words for component {component}:\")\n",
    "    for word, value in top_words:\n",
    "        print(f\"{word}: {value:.4f}\")"
   ]
  },
  {
   "cell_type": "markdown",
   "metadata": {},
   "source": [
    "#### Analyze Weight Vector"
   ]
  },
  {
   "cell_type": "code",
   "execution_count": 17,
   "metadata": {},
   "outputs": [
    {
     "name": "stdout",
     "output_type": "stream",
     "text": [
      "Sparsity of w: 0.00%\n",
      "Most positive component: 2\n",
      "Most negative component: 6\n",
      "\n",
      "Top words for most positive component:\n",
      "Great: 21.6424\n",
      "worst: -21.5720\n",
      "bland: -17.3457\n",
      "delicious.: 17.2520\n",
      "mediocre: -16.8846\n",
      "Worst: -16.3972\n",
      "Love: 16.3117\n",
      "Horrible: -15.4485\n",
      "horrible: -15.3773\n",
      "Excellent: 15.2962\n",
      "\n",
      "Top words for most negative component:\n",
      "worst: 21.0932\n",
      "Great: -20.2147\n",
      "delicious.: -17.3148\n",
      "Worst: 17.0650\n",
      "Love: -17.0421\n",
      "mediocre: 16.3206\n",
      "bland: 16.0012\n",
      "delicious!: -15.7475\n",
      "rude: 15.7416\n",
      "horrible.: 15.6185\n"
     ]
    }
   ],
   "source": [
    "# Extract the weight vector\n",
    "w = model.fc.weight.detach().cpu().numpy().flatten()\n",
    "\n",
    "# Check sparsity of w\n",
    "w_sparsity = np.mean(np.abs(w) < 1e-3)\n",
    "print(f\"Sparsity of w: {w_sparsity:.2%}\")\n",
    "\n",
    "# Find most positive and negative components\n",
    "most_positive = np.argmax(w)\n",
    "most_negative = np.argmin(w)\n",
    "\n",
    "print(f\"Most positive component: {most_positive}\")\n",
    "print(f\"Most negative component: {most_negative}\")\n",
    "\n",
    "# Get top words for these components\n",
    "print(\"\\nTop words for most positive component:\")\n",
    "top_positive = get_top_words_for_component(word_embeddings, vocab, most_positive)\n",
    "for word, value in top_positive:\n",
    "    print(f\"{word}: {value:.4f}\")\n",
    "\n",
    "print(\"\\nTop words for most negative component:\")\n",
    "top_negative = get_top_words_for_component(word_embeddings, vocab, most_negative)\n",
    "for word, value in top_negative:\n",
    "    print(f\"{word}: {value:.4f}\")"
   ]
  },
  {
   "cell_type": "code",
   "execution_count": null,
   "metadata": {},
   "outputs": [],
   "source": []
  }
 ],
 "metadata": {
  "kernelspec": {
   "display_name": "research",
   "language": "python",
   "name": "python3"
  },
  "language_info": {
   "codemirror_mode": {
    "name": "ipython",
    "version": 3
   },
   "file_extension": ".py",
   "mimetype": "text/x-python",
   "name": "python",
   "nbconvert_exporter": "python",
   "pygments_lexer": "ipython3",
   "version": "3.10.13"
  }
 },
 "nbformat": 4,
 "nbformat_minor": 2
}
